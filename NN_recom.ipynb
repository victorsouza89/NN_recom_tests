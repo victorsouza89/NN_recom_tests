{
  "nbformat": 4,
  "nbformat_minor": 0,
  "metadata": {
    "colab": {
      "name": "NN_recom.ipynb",
      "provenance": [],
      "authorship_tag": "ABX9TyMKFGjZHlYeH+L0bvdzvo5j",
      "include_colab_link": true
    },
    "kernelspec": {
      "name": "python3",
      "display_name": "Python 3"
    },
    "language_info": {
      "name": "python"
    },
    "accelerator": "GPU"
  },
  "cells": [
    {
      "cell_type": "markdown",
      "metadata": {
        "id": "view-in-github",
        "colab_type": "text"
      },
      "source": [
        "<a href=\"https://colab.research.google.com/github/victorsouza89/NN_recom_tests/blob/main/NN_recom.ipynb\" target=\"_parent\"><img src=\"https://colab.research.google.com/assets/colab-badge.svg\" alt=\"Open In Colab\"/></a>"
      ]
    },
    {
      "cell_type": "code",
      "execution_count": 1,
      "metadata": {
        "id": "TE-9q43QCmpw"
      },
      "outputs": [],
      "source": [
        "import numpy as np\n",
        "import pandas as pd\n",
        "import os\n",
        "import warnings\n",
        "from matplotlib import pyplot as plt\n",
        "\n",
        "from keras.models import load_model\n",
        "from sklearn.model_selection import train_test_split\n",
        "from keras.layers import Input, Embedding, Flatten, Dot, Dense, Concatenate\n",
        "from keras.models import Model\n",
        "warnings.filterwarnings('ignore')\n",
        "%matplotlib inline"
      ]
    },
    {
      "cell_type": "markdown",
      "source": [
        "## Data"
      ],
      "metadata": {
        "id": "Kg173MUMDkPi"
      }
    },
    {
      "cell_type": "code",
      "source": [
        "url=\"http://deepyeti.ucsd.edu/jianmo/amazon/categoryFilesSmall/Movies_and_TV.csv\"\n",
        "dataset=pd.read_csv(url, header=None)\n",
        "dataset.columns = ['item','user','rating','timestamp']\n",
        "dataset = dataset.drop(columns=['timestamp'])\n",
        "dataset['user_id'] = dataset.groupby(['user']).ngroup()\n",
        "dataset['item_id'] = dataset.groupby(['item']).ngroup()\n",
        "dataset = dataset.sample(frac=1).reset_index(drop=True)\n",
        "dataset"
      ],
      "metadata": {
        "colab": {
          "base_uri": "https://localhost:8080/",
          "height": 424
        },
        "id": "gYShHXPLDeZv",
        "outputId": "9bd98d2c-fb68-4eab-b4a4-401285b2e142"
      },
      "execution_count": 2,
      "outputs": [
        {
          "output_type": "execute_result",
          "data": {
            "text/plain": [
              "               item            user  rating  user_id  item_id\n",
              "0        B009474UW4  A23OYFPIL24JZ1     5.0  1115590   142109\n",
              "1        B0000E2PVR  A2QXPRQOE1N6Y4     5.0  1768353    37113\n",
              "2        B0002MJT0I  A3GMELZE8MZO0A     4.0  2488892    42231\n",
              "3        B0069556YU  A26SX8K6X69QA8     5.0  1203101   134670\n",
              "4        B00NAQ3EOK  A1NDOFET819W3D     5.0   657543   166326\n",
              "...             ...             ...     ...      ...      ...\n",
              "8765563  B00C6B8LGQ   ASTNEAG86CDY8     5.0  3624840   149423\n",
              "8765564  630560097X  A2K4NY3LIST3EU     5.0  1577214    18138\n",
              "8765565  B00AF6B22E  A3FTZVEPKZMODV     4.0  2466615   144796\n",
              "8765566  B000WXDMLE  A38BOJIXV786SP     5.0  2256662    81904\n",
              "8765567  B001DDBD5Y  A3LS26BQH3TIXG     5.0  2633500    95956\n",
              "\n",
              "[8765568 rows x 5 columns]"
            ],
            "text/html": [
              "\n",
              "  <div id=\"df-bca69130-7822-468b-a0fd-5b8a6e56493d\">\n",
              "    <div class=\"colab-df-container\">\n",
              "      <div>\n",
              "<style scoped>\n",
              "    .dataframe tbody tr th:only-of-type {\n",
              "        vertical-align: middle;\n",
              "    }\n",
              "\n",
              "    .dataframe tbody tr th {\n",
              "        vertical-align: top;\n",
              "    }\n",
              "\n",
              "    .dataframe thead th {\n",
              "        text-align: right;\n",
              "    }\n",
              "</style>\n",
              "<table border=\"1\" class=\"dataframe\">\n",
              "  <thead>\n",
              "    <tr style=\"text-align: right;\">\n",
              "      <th></th>\n",
              "      <th>item</th>\n",
              "      <th>user</th>\n",
              "      <th>rating</th>\n",
              "      <th>user_id</th>\n",
              "      <th>item_id</th>\n",
              "    </tr>\n",
              "  </thead>\n",
              "  <tbody>\n",
              "    <tr>\n",
              "      <th>0</th>\n",
              "      <td>B009474UW4</td>\n",
              "      <td>A23OYFPIL24JZ1</td>\n",
              "      <td>5.0</td>\n",
              "      <td>1115590</td>\n",
              "      <td>142109</td>\n",
              "    </tr>\n",
              "    <tr>\n",
              "      <th>1</th>\n",
              "      <td>B0000E2PVR</td>\n",
              "      <td>A2QXPRQOE1N6Y4</td>\n",
              "      <td>5.0</td>\n",
              "      <td>1768353</td>\n",
              "      <td>37113</td>\n",
              "    </tr>\n",
              "    <tr>\n",
              "      <th>2</th>\n",
              "      <td>B0002MJT0I</td>\n",
              "      <td>A3GMELZE8MZO0A</td>\n",
              "      <td>4.0</td>\n",
              "      <td>2488892</td>\n",
              "      <td>42231</td>\n",
              "    </tr>\n",
              "    <tr>\n",
              "      <th>3</th>\n",
              "      <td>B0069556YU</td>\n",
              "      <td>A26SX8K6X69QA8</td>\n",
              "      <td>5.0</td>\n",
              "      <td>1203101</td>\n",
              "      <td>134670</td>\n",
              "    </tr>\n",
              "    <tr>\n",
              "      <th>4</th>\n",
              "      <td>B00NAQ3EOK</td>\n",
              "      <td>A1NDOFET819W3D</td>\n",
              "      <td>5.0</td>\n",
              "      <td>657543</td>\n",
              "      <td>166326</td>\n",
              "    </tr>\n",
              "    <tr>\n",
              "      <th>...</th>\n",
              "      <td>...</td>\n",
              "      <td>...</td>\n",
              "      <td>...</td>\n",
              "      <td>...</td>\n",
              "      <td>...</td>\n",
              "    </tr>\n",
              "    <tr>\n",
              "      <th>8765563</th>\n",
              "      <td>B00C6B8LGQ</td>\n",
              "      <td>ASTNEAG86CDY8</td>\n",
              "      <td>5.0</td>\n",
              "      <td>3624840</td>\n",
              "      <td>149423</td>\n",
              "    </tr>\n",
              "    <tr>\n",
              "      <th>8765564</th>\n",
              "      <td>630560097X</td>\n",
              "      <td>A2K4NY3LIST3EU</td>\n",
              "      <td>5.0</td>\n",
              "      <td>1577214</td>\n",
              "      <td>18138</td>\n",
              "    </tr>\n",
              "    <tr>\n",
              "      <th>8765565</th>\n",
              "      <td>B00AF6B22E</td>\n",
              "      <td>A3FTZVEPKZMODV</td>\n",
              "      <td>4.0</td>\n",
              "      <td>2466615</td>\n",
              "      <td>144796</td>\n",
              "    </tr>\n",
              "    <tr>\n",
              "      <th>8765566</th>\n",
              "      <td>B000WXDMLE</td>\n",
              "      <td>A38BOJIXV786SP</td>\n",
              "      <td>5.0</td>\n",
              "      <td>2256662</td>\n",
              "      <td>81904</td>\n",
              "    </tr>\n",
              "    <tr>\n",
              "      <th>8765567</th>\n",
              "      <td>B001DDBD5Y</td>\n",
              "      <td>A3LS26BQH3TIXG</td>\n",
              "      <td>5.0</td>\n",
              "      <td>2633500</td>\n",
              "      <td>95956</td>\n",
              "    </tr>\n",
              "  </tbody>\n",
              "</table>\n",
              "<p>8765568 rows × 5 columns</p>\n",
              "</div>\n",
              "      <button class=\"colab-df-convert\" onclick=\"convertToInteractive('df-bca69130-7822-468b-a0fd-5b8a6e56493d')\"\n",
              "              title=\"Convert this dataframe to an interactive table.\"\n",
              "              style=\"display:none;\">\n",
              "        \n",
              "  <svg xmlns=\"http://www.w3.org/2000/svg\" height=\"24px\"viewBox=\"0 0 24 24\"\n",
              "       width=\"24px\">\n",
              "    <path d=\"M0 0h24v24H0V0z\" fill=\"none\"/>\n",
              "    <path d=\"M18.56 5.44l.94 2.06.94-2.06 2.06-.94-2.06-.94-.94-2.06-.94 2.06-2.06.94zm-11 1L8.5 8.5l.94-2.06 2.06-.94-2.06-.94L8.5 2.5l-.94 2.06-2.06.94zm10 10l.94 2.06.94-2.06 2.06-.94-2.06-.94-.94-2.06-.94 2.06-2.06.94z\"/><path d=\"M17.41 7.96l-1.37-1.37c-.4-.4-.92-.59-1.43-.59-.52 0-1.04.2-1.43.59L10.3 9.45l-7.72 7.72c-.78.78-.78 2.05 0 2.83L4 21.41c.39.39.9.59 1.41.59.51 0 1.02-.2 1.41-.59l7.78-7.78 2.81-2.81c.8-.78.8-2.07 0-2.86zM5.41 20L4 18.59l7.72-7.72 1.47 1.35L5.41 20z\"/>\n",
              "  </svg>\n",
              "      </button>\n",
              "      \n",
              "  <style>\n",
              "    .colab-df-container {\n",
              "      display:flex;\n",
              "      flex-wrap:wrap;\n",
              "      gap: 12px;\n",
              "    }\n",
              "\n",
              "    .colab-df-convert {\n",
              "      background-color: #E8F0FE;\n",
              "      border: none;\n",
              "      border-radius: 50%;\n",
              "      cursor: pointer;\n",
              "      display: none;\n",
              "      fill: #1967D2;\n",
              "      height: 32px;\n",
              "      padding: 0 0 0 0;\n",
              "      width: 32px;\n",
              "    }\n",
              "\n",
              "    .colab-df-convert:hover {\n",
              "      background-color: #E2EBFA;\n",
              "      box-shadow: 0px 1px 2px rgba(60, 64, 67, 0.3), 0px 1px 3px 1px rgba(60, 64, 67, 0.15);\n",
              "      fill: #174EA6;\n",
              "    }\n",
              "\n",
              "    [theme=dark] .colab-df-convert {\n",
              "      background-color: #3B4455;\n",
              "      fill: #D2E3FC;\n",
              "    }\n",
              "\n",
              "    [theme=dark] .colab-df-convert:hover {\n",
              "      background-color: #434B5C;\n",
              "      box-shadow: 0px 1px 3px 1px rgba(0, 0, 0, 0.15);\n",
              "      filter: drop-shadow(0px 1px 2px rgba(0, 0, 0, 0.3));\n",
              "      fill: #FFFFFF;\n",
              "    }\n",
              "  </style>\n",
              "\n",
              "      <script>\n",
              "        const buttonEl =\n",
              "          document.querySelector('#df-bca69130-7822-468b-a0fd-5b8a6e56493d button.colab-df-convert');\n",
              "        buttonEl.style.display =\n",
              "          google.colab.kernel.accessAllowed ? 'block' : 'none';\n",
              "\n",
              "        async function convertToInteractive(key) {\n",
              "          const element = document.querySelector('#df-bca69130-7822-468b-a0fd-5b8a6e56493d');\n",
              "          const dataTable =\n",
              "            await google.colab.kernel.invokeFunction('convertToInteractive',\n",
              "                                                     [key], {});\n",
              "          if (!dataTable) return;\n",
              "\n",
              "          const docLinkHtml = 'Like what you see? Visit the ' +\n",
              "            '<a target=\"_blank\" href=https://colab.research.google.com/notebooks/data_table.ipynb>data table notebook</a>'\n",
              "            + ' to learn more about interactive tables.';\n",
              "          element.innerHTML = '';\n",
              "          dataTable['output_type'] = 'display_data';\n",
              "          await google.colab.output.renderOutput(dataTable, element);\n",
              "          const docLink = document.createElement('div');\n",
              "          docLink.innerHTML = docLinkHtml;\n",
              "          element.appendChild(docLink);\n",
              "        }\n",
              "      </script>\n",
              "    </div>\n",
              "  </div>\n",
              "  "
            ]
          },
          "metadata": {},
          "execution_count": 2
        }
      ]
    },
    {
      "cell_type": "markdown",
      "source": [
        "## Define NN"
      ],
      "metadata": {
        "id": "UfS8s42iGBOA"
      }
    },
    {
      "cell_type": "code",
      "source": [
        "train, test = train_test_split(dataset, test_size=0.8)"
      ],
      "metadata": {
        "id": "nHcAIeT2EREf"
      },
      "execution_count": 3,
      "outputs": []
    },
    {
      "cell_type": "code",
      "source": [
        "# creating item embedding path\n",
        "item_input = Input(shape=[1], name=\"Items-Input\")\n",
        "item_embedding = Embedding(len(train.item)+1, 5, name=\"Items-Embedding\")(item_input)\n",
        "item_vec = Flatten(name=\"Flatten-Items\")(item_embedding)\n",
        "# creating user embedding path\n",
        "user_input = Input(shape=[1], name=\"User-Input\")\n",
        "user_embedding = Embedding(len(train.user)+1, 5, name=\"User-Embedding\")(user_input)\n",
        "user_vec = Flatten(name=\"Flatten-Users\")(user_embedding)\n",
        "# concatenate features\n",
        "conc = Concatenate()([item_vec, user_vec])\n",
        "# add fully-connected-layers\n",
        "fc1 = Dense(32, activation='relu')(conc)\n",
        "#fc2 = Dense(32, activation='relu')(fc1)\n",
        "#fc3 = Dense(32, activation='relu')(fc2)\n",
        "out = Dense(1)(fc1)\n",
        "# Create model and compile it\n",
        "model = Model([item_input, user_input], out)\n",
        "model.compile('adam', 'mean_squared_error')\n",
        "model.summary()"
      ],
      "metadata": {
        "id": "vgTNc59rFhbC",
        "colab": {
          "base_uri": "https://localhost:8080/"
        },
        "outputId": "d093f707-47c8-4d78-a7b6-9e901f88ef39"
      },
      "execution_count": 4,
      "outputs": [
        {
          "output_type": "stream",
          "name": "stdout",
          "text": [
            "Model: \"model\"\n",
            "__________________________________________________________________________________________________\n",
            " Layer (type)                   Output Shape         Param #     Connected to                     \n",
            "==================================================================================================\n",
            " Items-Input (InputLayer)       [(None, 1)]          0           []                               \n",
            "                                                                                                  \n",
            " User-Input (InputLayer)        [(None, 1)]          0           []                               \n",
            "                                                                                                  \n",
            " Items-Embedding (Embedding)    (None, 1, 5)         8765570     ['Items-Input[0][0]']            \n",
            "                                                                                                  \n",
            " User-Embedding (Embedding)     (None, 1, 5)         8765570     ['User-Input[0][0]']             \n",
            "                                                                                                  \n",
            " Flatten-Items (Flatten)        (None, 5)            0           ['Items-Embedding[0][0]']        \n",
            "                                                                                                  \n",
            " Flatten-Users (Flatten)        (None, 5)            0           ['User-Embedding[0][0]']         \n",
            "                                                                                                  \n",
            " concatenate (Concatenate)      (None, 10)           0           ['Flatten-Items[0][0]',          \n",
            "                                                                  'Flatten-Users[0][0]']          \n",
            "                                                                                                  \n",
            " dense (Dense)                  (None, 32)           352         ['concatenate[0][0]']            \n",
            "                                                                                                  \n",
            " dense_1 (Dense)                (None, 1)            33          ['dense[0][0]']                  \n",
            "                                                                                                  \n",
            "==================================================================================================\n",
            "Total params: 17,531,525\n",
            "Trainable params: 17,531,525\n",
            "Non-trainable params: 0\n",
            "__________________________________________________________________________________________________\n"
          ]
        }
      ]
    },
    {
      "cell_type": "markdown",
      "source": [
        "## Train NN"
      ],
      "metadata": {
        "id": "4YrJyaBIGUES"
      }
    },
    {
      "cell_type": "code",
      "source": [
        "history = model.fit([train.item_id, train.user_id], train.rating, validation_split = 0.1, epochs=1, verbose=1)"
      ],
      "metadata": {
        "colab": {
          "base_uri": "https://localhost:8080/"
        },
        "id": "Ae20zBm4GWy7",
        "outputId": "3fac4ebc-7ab3-4fcb-9c68-e6e4d213d6ae"
      },
      "execution_count": 5,
      "outputs": [
        {
          "output_type": "stream",
          "name": "stdout",
          "text": [
            "49307/49307 [==============================] - 950s 19ms/step - loss: 1.3600 - val_loss: 1.2553\n"
          ]
        }
      ]
    },
    {
      "cell_type": "code",
      "source": [
        "plt.plot(history.history['acc'])\n",
        "plt.plot(history.history['val_acc'])\n",
        "plt.title('model accuracy')\n",
        "plt.ylabel('accuracy')\n",
        "plt.xlabel('epoch')\n",
        "plt.legend(['train', 'val'], loc='upper left')\n",
        "plt.show()"
      ],
      "metadata": {
        "id": "GJ17bEFGD1h7",
        "colab": {
          "base_uri": "https://localhost:8080/",
          "height": 235
        },
        "outputId": "463b53b0-f187-4c34-ef02-977ded0113b5"
      },
      "execution_count": null,
      "outputs": [
        {
          "output_type": "error",
          "ename": "KeyError",
          "evalue": "ignored",
          "traceback": [
            "\u001b[0;31m---------------------------------------------------------------------------\u001b[0m",
            "\u001b[0;31mKeyError\u001b[0m                                  Traceback (most recent call last)",
            "\u001b[0;32m<ipython-input-17-ded2d5aee209>\u001b[0m in \u001b[0;36m<module>\u001b[0;34m()\u001b[0m\n\u001b[0;32m----> 1\u001b[0;31m \u001b[0mplt\u001b[0m\u001b[0;34m.\u001b[0m\u001b[0mplot\u001b[0m\u001b[0;34m(\u001b[0m\u001b[0mhistory\u001b[0m\u001b[0;34m.\u001b[0m\u001b[0mhistory\u001b[0m\u001b[0;34m[\u001b[0m\u001b[0;34m'acc'\u001b[0m\u001b[0;34m]\u001b[0m\u001b[0;34m)\u001b[0m\u001b[0;34m\u001b[0m\u001b[0;34m\u001b[0m\u001b[0m\n\u001b[0m\u001b[1;32m      2\u001b[0m \u001b[0mplt\u001b[0m\u001b[0;34m.\u001b[0m\u001b[0mplot\u001b[0m\u001b[0;34m(\u001b[0m\u001b[0mhistory\u001b[0m\u001b[0;34m.\u001b[0m\u001b[0mhistory\u001b[0m\u001b[0;34m[\u001b[0m\u001b[0;34m'val_acc'\u001b[0m\u001b[0;34m]\u001b[0m\u001b[0;34m)\u001b[0m\u001b[0;34m\u001b[0m\u001b[0;34m\u001b[0m\u001b[0m\n\u001b[1;32m      3\u001b[0m \u001b[0mplt\u001b[0m\u001b[0;34m.\u001b[0m\u001b[0mtitle\u001b[0m\u001b[0;34m(\u001b[0m\u001b[0;34m'model accuracy'\u001b[0m\u001b[0;34m)\u001b[0m\u001b[0;34m\u001b[0m\u001b[0;34m\u001b[0m\u001b[0m\n\u001b[1;32m      4\u001b[0m \u001b[0mplt\u001b[0m\u001b[0;34m.\u001b[0m\u001b[0mylabel\u001b[0m\u001b[0;34m(\u001b[0m\u001b[0;34m'accuracy'\u001b[0m\u001b[0;34m)\u001b[0m\u001b[0;34m\u001b[0m\u001b[0;34m\u001b[0m\u001b[0m\n\u001b[1;32m      5\u001b[0m \u001b[0mplt\u001b[0m\u001b[0;34m.\u001b[0m\u001b[0mxlabel\u001b[0m\u001b[0;34m(\u001b[0m\u001b[0;34m'epoch'\u001b[0m\u001b[0;34m)\u001b[0m\u001b[0;34m\u001b[0m\u001b[0;34m\u001b[0m\u001b[0m\n",
            "\u001b[0;31mKeyError\u001b[0m: 'acc'"
          ]
        }
      ]
    },
    {
      "cell_type": "markdown",
      "source": [
        "## Predictions NN"
      ],
      "metadata": {
        "id": "PdEV9sRJGeMF"
      }
    },
    {
      "cell_type": "code",
      "source": [
        "k = 100000\n",
        "predictions = model.predict([test.item_id.head(k), test.user_id.head(k)]).T"
      ],
      "metadata": {
        "id": "W6h2kE5vVmlI"
      },
      "execution_count": 33,
      "outputs": []
    },
    {
      "cell_type": "code",
      "source": [
        "pred_round = np.round(predictions)\n",
        "real_ratings = test.rating.head(k).values\n",
        "errors = pred_round - real_ratings"
      ],
      "metadata": {
        "id": "XkPPMX2jU6Jf"
      },
      "execution_count": 34,
      "outputs": []
    },
    {
      "cell_type": "code",
      "source": [
        "np.sqrt(np.sum((errors)**2)/k)"
      ],
      "metadata": {
        "colab": {
          "base_uri": "https://localhost:8080/"
        },
        "id": "6QKM4UczaM9h",
        "outputId": "2d241f7c-d9cc-4054-fe44-1a1a4d10bad2"
      },
      "execution_count": 35,
      "outputs": [
        {
          "output_type": "execute_result",
          "data": {
            "text/plain": [
              "1.1691236033884527"
            ]
          },
          "metadata": {},
          "execution_count": 35
        }
      ]
    },
    {
      "cell_type": "code",
      "source": [
        "[print(f'{predictions[0][i]:.3f} -> {pred_round[0][i]:.1f} | {test.rating.iloc[i]} : err={errors[0][i]:.1f}') for i in range(100)]"
      ],
      "metadata": {
        "id": "4aggnXM4GgU8",
        "colab": {
          "base_uri": "https://localhost:8080/"
        },
        "outputId": "4e633e4b-888a-4c0f-db32-122201020f3d"
      },
      "execution_count": 46,
      "outputs": [
        {
          "output_type": "stream",
          "name": "stdout",
          "text": [
            "4.801 -> 5.0 | 5.0 : err=0.0\n",
            "3.965 -> 4.0 | 5.0 : err=-1.0\n",
            "4.189 -> 4.0 | 5.0 : err=-1.0\n",
            "4.300 -> 4.0 | 4.0 : err=0.0\n",
            "4.092 -> 4.0 | 2.0 : err=2.0\n",
            "4.345 -> 4.0 | 4.0 : err=0.0\n",
            "2.240 -> 2.0 | 1.0 : err=1.0\n",
            "3.891 -> 4.0 | 5.0 : err=-1.0\n",
            "3.543 -> 4.0 | 1.0 : err=3.0\n",
            "4.306 -> 4.0 | 5.0 : err=-1.0\n",
            "4.366 -> 4.0 | 5.0 : err=-1.0\n",
            "4.463 -> 4.0 | 5.0 : err=-1.0\n",
            "4.377 -> 4.0 | 5.0 : err=-1.0\n",
            "4.361 -> 4.0 | 4.0 : err=0.0\n",
            "4.523 -> 5.0 | 5.0 : err=0.0\n",
            "3.944 -> 4.0 | 5.0 : err=-1.0\n",
            "4.396 -> 4.0 | 5.0 : err=-1.0\n",
            "4.087 -> 4.0 | 2.0 : err=2.0\n",
            "4.635 -> 5.0 | 4.0 : err=1.0\n",
            "4.554 -> 5.0 | 5.0 : err=0.0\n",
            "4.851 -> 5.0 | 5.0 : err=0.0\n",
            "4.410 -> 4.0 | 5.0 : err=-1.0\n",
            "4.656 -> 5.0 | 5.0 : err=0.0\n",
            "4.341 -> 4.0 | 5.0 : err=-1.0\n",
            "4.389 -> 4.0 | 5.0 : err=-1.0\n",
            "4.371 -> 4.0 | 5.0 : err=-1.0\n",
            "4.410 -> 4.0 | 5.0 : err=-1.0\n",
            "4.614 -> 5.0 | 5.0 : err=0.0\n",
            "4.039 -> 4.0 | 4.0 : err=0.0\n",
            "4.236 -> 4.0 | 5.0 : err=-1.0\n",
            "4.184 -> 4.0 | 5.0 : err=-1.0\n",
            "4.059 -> 4.0 | 5.0 : err=-1.0\n",
            "4.416 -> 4.0 | 3.0 : err=1.0\n",
            "4.615 -> 5.0 | 5.0 : err=0.0\n",
            "4.477 -> 4.0 | 4.0 : err=0.0\n",
            "4.670 -> 5.0 | 5.0 : err=0.0\n",
            "4.442 -> 4.0 | 5.0 : err=-1.0\n",
            "3.440 -> 3.0 | 4.0 : err=-1.0\n",
            "3.946 -> 4.0 | 5.0 : err=-1.0\n",
            "4.425 -> 4.0 | 5.0 : err=-1.0\n",
            "4.368 -> 4.0 | 3.0 : err=1.0\n",
            "4.476 -> 4.0 | 5.0 : err=-1.0\n",
            "4.014 -> 4.0 | 4.0 : err=0.0\n",
            "4.353 -> 4.0 | 1.0 : err=3.0\n",
            "4.229 -> 4.0 | 5.0 : err=-1.0\n",
            "4.225 -> 4.0 | 3.0 : err=1.0\n",
            "3.940 -> 4.0 | 5.0 : err=-1.0\n",
            "4.435 -> 4.0 | 5.0 : err=-1.0\n",
            "3.946 -> 4.0 | 5.0 : err=-1.0\n",
            "4.353 -> 4.0 | 5.0 : err=-1.0\n",
            "4.397 -> 4.0 | 5.0 : err=-1.0\n",
            "4.535 -> 5.0 | 5.0 : err=0.0\n",
            "4.195 -> 4.0 | 4.0 : err=0.0\n",
            "3.677 -> 4.0 | 2.0 : err=2.0\n",
            "4.347 -> 4.0 | 3.0 : err=1.0\n",
            "4.758 -> 5.0 | 5.0 : err=0.0\n",
            "2.652 -> 3.0 | 2.0 : err=1.0\n",
            "4.246 -> 4.0 | 3.0 : err=1.0\n",
            "4.064 -> 4.0 | 4.0 : err=0.0\n",
            "4.172 -> 4.0 | 5.0 : err=-1.0\n",
            "4.604 -> 5.0 | 5.0 : err=0.0\n",
            "3.862 -> 4.0 | 2.0 : err=2.0\n",
            "4.409 -> 4.0 | 5.0 : err=-1.0\n",
            "3.535 -> 4.0 | 3.0 : err=1.0\n",
            "4.404 -> 4.0 | 5.0 : err=-1.0\n",
            "4.523 -> 5.0 | 5.0 : err=0.0\n",
            "4.656 -> 5.0 | 5.0 : err=0.0\n",
            "4.774 -> 5.0 | 5.0 : err=0.0\n",
            "3.758 -> 4.0 | 5.0 : err=-1.0\n",
            "4.597 -> 5.0 | 5.0 : err=0.0\n",
            "4.509 -> 5.0 | 2.0 : err=3.0\n",
            "4.486 -> 4.0 | 5.0 : err=-1.0\n",
            "4.424 -> 4.0 | 4.0 : err=0.0\n",
            "4.014 -> 4.0 | 5.0 : err=-1.0\n",
            "4.407 -> 4.0 | 5.0 : err=-1.0\n",
            "4.441 -> 4.0 | 5.0 : err=-1.0\n",
            "4.562 -> 5.0 | 3.0 : err=2.0\n",
            "4.278 -> 4.0 | 5.0 : err=-1.0\n",
            "4.529 -> 5.0 | 5.0 : err=0.0\n",
            "4.147 -> 4.0 | 3.0 : err=1.0\n",
            "4.177 -> 4.0 | 4.0 : err=0.0\n",
            "3.645 -> 4.0 | 3.0 : err=1.0\n",
            "4.143 -> 4.0 | 3.0 : err=1.0\n",
            "3.960 -> 4.0 | 1.0 : err=3.0\n",
            "4.508 -> 5.0 | 3.0 : err=2.0\n",
            "3.920 -> 4.0 | 5.0 : err=-1.0\n",
            "4.559 -> 5.0 | 5.0 : err=0.0\n",
            "4.370 -> 4.0 | 3.0 : err=1.0\n",
            "3.635 -> 4.0 | 3.0 : err=1.0\n",
            "4.190 -> 4.0 | 4.0 : err=0.0\n",
            "4.648 -> 5.0 | 5.0 : err=0.0\n",
            "4.396 -> 4.0 | 5.0 : err=-1.0\n",
            "4.598 -> 5.0 | 5.0 : err=0.0\n",
            "3.579 -> 4.0 | 5.0 : err=-1.0\n",
            "4.512 -> 5.0 | 5.0 : err=0.0\n",
            "3.216 -> 3.0 | 2.0 : err=1.0\n",
            "4.338 -> 4.0 | 5.0 : err=-1.0\n",
            "4.625 -> 5.0 | 5.0 : err=0.0\n",
            "4.346 -> 4.0 | 5.0 : err=-1.0\n",
            "4.124 -> 4.0 | 4.0 : err=0.0\n"
          ]
        },
        {
          "output_type": "execute_result",
          "data": {
            "text/plain": [
              "[None,\n",
              " None,\n",
              " None,\n",
              " None,\n",
              " None,\n",
              " None,\n",
              " None,\n",
              " None,\n",
              " None,\n",
              " None,\n",
              " None,\n",
              " None,\n",
              " None,\n",
              " None,\n",
              " None,\n",
              " None,\n",
              " None,\n",
              " None,\n",
              " None,\n",
              " None,\n",
              " None,\n",
              " None,\n",
              " None,\n",
              " None,\n",
              " None,\n",
              " None,\n",
              " None,\n",
              " None,\n",
              " None,\n",
              " None,\n",
              " None,\n",
              " None,\n",
              " None,\n",
              " None,\n",
              " None,\n",
              " None,\n",
              " None,\n",
              " None,\n",
              " None,\n",
              " None,\n",
              " None,\n",
              " None,\n",
              " None,\n",
              " None,\n",
              " None,\n",
              " None,\n",
              " None,\n",
              " None,\n",
              " None,\n",
              " None,\n",
              " None,\n",
              " None,\n",
              " None,\n",
              " None,\n",
              " None,\n",
              " None,\n",
              " None,\n",
              " None,\n",
              " None,\n",
              " None,\n",
              " None,\n",
              " None,\n",
              " None,\n",
              " None,\n",
              " None,\n",
              " None,\n",
              " None,\n",
              " None,\n",
              " None,\n",
              " None,\n",
              " None,\n",
              " None,\n",
              " None,\n",
              " None,\n",
              " None,\n",
              " None,\n",
              " None,\n",
              " None,\n",
              " None,\n",
              " None,\n",
              " None,\n",
              " None,\n",
              " None,\n",
              " None,\n",
              " None,\n",
              " None,\n",
              " None,\n",
              " None,\n",
              " None,\n",
              " None,\n",
              " None,\n",
              " None,\n",
              " None,\n",
              " None,\n",
              " None,\n",
              " None,\n",
              " None,\n",
              " None,\n",
              " None,\n",
              " None]"
            ]
          },
          "metadata": {},
          "execution_count": 46
        }
      ]
    },
    {
      "cell_type": "code",
      "source": [
        ""
      ],
      "metadata": {
        "id": "y4csNrYyFC3W"
      },
      "execution_count": 46,
      "outputs": []
    },
    {
      "cell_type": "code",
      "source": [
        ""
      ],
      "metadata": {
        "id": "lAQwaaKMa1ub"
      },
      "execution_count": 46,
      "outputs": []
    },
    {
      "cell_type": "code",
      "source": [
        ""
      ],
      "metadata": {
        "id": "b4BahT2Iby66"
      },
      "execution_count": null,
      "outputs": []
    }
  ]
}