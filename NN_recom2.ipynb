{
  "nbformat": 4,
  "nbformat_minor": 0,
  "metadata": {
    "colab": {
      "name": "NN_recom2.ipynb",
      "provenance": [],
      "authorship_tag": "ABX9TyPhcD7Karg7mcW4SlDxVFNp",
      "include_colab_link": true
    },
    "kernelspec": {
      "name": "python3",
      "display_name": "Python 3"
    },
    "language_info": {
      "name": "python"
    },
    "accelerator": "GPU"
  },
  "cells": [
    {
      "cell_type": "markdown",
      "metadata": {
        "id": "view-in-github",
        "colab_type": "text"
      },
      "source": [
        "<a href=\"https://colab.research.google.com/github/victorsouza89/NN_recom_tests/blob/main/NN_recom2.ipynb\" target=\"_parent\"><img src=\"https://colab.research.google.com/assets/colab-badge.svg\" alt=\"Open In Colab\"/></a>"
      ]
    },
    {
      "cell_type": "code",
      "execution_count": 1,
      "metadata": {
        "id": "TE-9q43QCmpw"
      },
      "outputs": [],
      "source": [
        "import numpy as np\n",
        "import pandas as pd\n",
        "import os\n",
        "import warnings\n",
        "\n",
        "from keras.models import load_model\n",
        "from sklearn.model_selection import train_test_split\n",
        "from keras.layers import Input, Embedding, Flatten, Dot, Dense, Concatenate\n",
        "from keras.models import Model\n",
        "warnings.filterwarnings('ignore')\n",
        "%matplotlib inline"
      ]
    },
    {
      "cell_type": "markdown",
      "source": [
        "## Data"
      ],
      "metadata": {
        "id": "Kg173MUMDkPi"
      }
    },
    {
      "cell_type": "code",
      "source": [
        "url=\"http://deepyeti.ucsd.edu/jianmo/amazon/categoryFilesSmall/AMAZON_FASHION.csv\"\n",
        "dataset=pd.read_csv(url, header=None)\n",
        "dataset.columns = ['item','user','rating','timestamp']\n",
        "dataset['user_id'] = dataset[['user']].sum(axis=1).map(hash)\n",
        "dataset['item_id'] = dataset[['item']].sum(axis=1).map(hash)\n",
        "dataset"
      ],
      "metadata": {
        "colab": {
          "base_uri": "https://localhost:8080/",
          "height": 424
        },
        "id": "gYShHXPLDeZv",
        "outputId": "772b5401-af0f-4ac5-b9d2-19d7b9ebd8e4"
      },
      "execution_count": 2,
      "outputs": [
        {
          "output_type": "execute_result",
          "data": {
            "text/plain": [
              "              item            user  rating   timestamp              user_id  \\\n",
              "0       7106116521  A1D4G1SNUZWQOT     5.0  1413763200  6806627385166154895   \n",
              "1       7106116521  A3DDWDH9PX2YX2     2.0  1411862400 -8032848220021371983   \n",
              "2       7106116521  A2MWC41EW7XL15     4.0  1408924800  9166305931544140400   \n",
              "3       7106116521  A2UH2QQ275NV45     2.0  1408838400 -6175287875635572623   \n",
              "4       7106116521   A89F3LQADZBS5     3.0  1406419200 -7418516523047459996   \n",
              "...            ...             ...     ...         ...                  ...   \n",
              "883631  B01HJHTH5U  A1ZSB2Q144UTEY     5.0  1487635200 -6204821665991023698   \n",
              "883632  B01HJHTH5U  A2CCDV0J5VB6F2     5.0  1480032000  2464343072853304319   \n",
              "883633  B01HJHTH5U  A3O90PACS7B61K     3.0  1478736000 -6739330837605955312   \n",
              "883634  B01HJHF97K  A2HO94I89U3LNH     3.0  1478736000  2798048825391088863   \n",
              "883635  B01HJG5NMW  A2RSX9E79DUHRX     5.0  1470700800   -34441710939480672   \n",
              "\n",
              "                    item_id  \n",
              "0       4882529181781392878  \n",
              "1       4882529181781392878  \n",
              "2       4882529181781392878  \n",
              "3       4882529181781392878  \n",
              "4       4882529181781392878  \n",
              "...                     ...  \n",
              "883631  7686417503465644182  \n",
              "883632  7686417503465644182  \n",
              "883633  7686417503465644182  \n",
              "883634 -7712875729641478866  \n",
              "883635    86585132148739004  \n",
              "\n",
              "[883636 rows x 6 columns]"
            ],
            "text/html": [
              "\n",
              "  <div id=\"df-16e8cd4e-9e33-4ffe-9900-e7c456a682f0\">\n",
              "    <div class=\"colab-df-container\">\n",
              "      <div>\n",
              "<style scoped>\n",
              "    .dataframe tbody tr th:only-of-type {\n",
              "        vertical-align: middle;\n",
              "    }\n",
              "\n",
              "    .dataframe tbody tr th {\n",
              "        vertical-align: top;\n",
              "    }\n",
              "\n",
              "    .dataframe thead th {\n",
              "        text-align: right;\n",
              "    }\n",
              "</style>\n",
              "<table border=\"1\" class=\"dataframe\">\n",
              "  <thead>\n",
              "    <tr style=\"text-align: right;\">\n",
              "      <th></th>\n",
              "      <th>item</th>\n",
              "      <th>user</th>\n",
              "      <th>rating</th>\n",
              "      <th>timestamp</th>\n",
              "      <th>user_id</th>\n",
              "      <th>item_id</th>\n",
              "    </tr>\n",
              "  </thead>\n",
              "  <tbody>\n",
              "    <tr>\n",
              "      <th>0</th>\n",
              "      <td>7106116521</td>\n",
              "      <td>A1D4G1SNUZWQOT</td>\n",
              "      <td>5.0</td>\n",
              "      <td>1413763200</td>\n",
              "      <td>6806627385166154895</td>\n",
              "      <td>4882529181781392878</td>\n",
              "    </tr>\n",
              "    <tr>\n",
              "      <th>1</th>\n",
              "      <td>7106116521</td>\n",
              "      <td>A3DDWDH9PX2YX2</td>\n",
              "      <td>2.0</td>\n",
              "      <td>1411862400</td>\n",
              "      <td>-8032848220021371983</td>\n",
              "      <td>4882529181781392878</td>\n",
              "    </tr>\n",
              "    <tr>\n",
              "      <th>2</th>\n",
              "      <td>7106116521</td>\n",
              "      <td>A2MWC41EW7XL15</td>\n",
              "      <td>4.0</td>\n",
              "      <td>1408924800</td>\n",
              "      <td>9166305931544140400</td>\n",
              "      <td>4882529181781392878</td>\n",
              "    </tr>\n",
              "    <tr>\n",
              "      <th>3</th>\n",
              "      <td>7106116521</td>\n",
              "      <td>A2UH2QQ275NV45</td>\n",
              "      <td>2.0</td>\n",
              "      <td>1408838400</td>\n",
              "      <td>-6175287875635572623</td>\n",
              "      <td>4882529181781392878</td>\n",
              "    </tr>\n",
              "    <tr>\n",
              "      <th>4</th>\n",
              "      <td>7106116521</td>\n",
              "      <td>A89F3LQADZBS5</td>\n",
              "      <td>3.0</td>\n",
              "      <td>1406419200</td>\n",
              "      <td>-7418516523047459996</td>\n",
              "      <td>4882529181781392878</td>\n",
              "    </tr>\n",
              "    <tr>\n",
              "      <th>...</th>\n",
              "      <td>...</td>\n",
              "      <td>...</td>\n",
              "      <td>...</td>\n",
              "      <td>...</td>\n",
              "      <td>...</td>\n",
              "      <td>...</td>\n",
              "    </tr>\n",
              "    <tr>\n",
              "      <th>883631</th>\n",
              "      <td>B01HJHTH5U</td>\n",
              "      <td>A1ZSB2Q144UTEY</td>\n",
              "      <td>5.0</td>\n",
              "      <td>1487635200</td>\n",
              "      <td>-6204821665991023698</td>\n",
              "      <td>7686417503465644182</td>\n",
              "    </tr>\n",
              "    <tr>\n",
              "      <th>883632</th>\n",
              "      <td>B01HJHTH5U</td>\n",
              "      <td>A2CCDV0J5VB6F2</td>\n",
              "      <td>5.0</td>\n",
              "      <td>1480032000</td>\n",
              "      <td>2464343072853304319</td>\n",
              "      <td>7686417503465644182</td>\n",
              "    </tr>\n",
              "    <tr>\n",
              "      <th>883633</th>\n",
              "      <td>B01HJHTH5U</td>\n",
              "      <td>A3O90PACS7B61K</td>\n",
              "      <td>3.0</td>\n",
              "      <td>1478736000</td>\n",
              "      <td>-6739330837605955312</td>\n",
              "      <td>7686417503465644182</td>\n",
              "    </tr>\n",
              "    <tr>\n",
              "      <th>883634</th>\n",
              "      <td>B01HJHF97K</td>\n",
              "      <td>A2HO94I89U3LNH</td>\n",
              "      <td>3.0</td>\n",
              "      <td>1478736000</td>\n",
              "      <td>2798048825391088863</td>\n",
              "      <td>-7712875729641478866</td>\n",
              "    </tr>\n",
              "    <tr>\n",
              "      <th>883635</th>\n",
              "      <td>B01HJG5NMW</td>\n",
              "      <td>A2RSX9E79DUHRX</td>\n",
              "      <td>5.0</td>\n",
              "      <td>1470700800</td>\n",
              "      <td>-34441710939480672</td>\n",
              "      <td>86585132148739004</td>\n",
              "    </tr>\n",
              "  </tbody>\n",
              "</table>\n",
              "<p>883636 rows × 6 columns</p>\n",
              "</div>\n",
              "      <button class=\"colab-df-convert\" onclick=\"convertToInteractive('df-16e8cd4e-9e33-4ffe-9900-e7c456a682f0')\"\n",
              "              title=\"Convert this dataframe to an interactive table.\"\n",
              "              style=\"display:none;\">\n",
              "        \n",
              "  <svg xmlns=\"http://www.w3.org/2000/svg\" height=\"24px\"viewBox=\"0 0 24 24\"\n",
              "       width=\"24px\">\n",
              "    <path d=\"M0 0h24v24H0V0z\" fill=\"none\"/>\n",
              "    <path d=\"M18.56 5.44l.94 2.06.94-2.06 2.06-.94-2.06-.94-.94-2.06-.94 2.06-2.06.94zm-11 1L8.5 8.5l.94-2.06 2.06-.94-2.06-.94L8.5 2.5l-.94 2.06-2.06.94zm10 10l.94 2.06.94-2.06 2.06-.94-2.06-.94-.94-2.06-.94 2.06-2.06.94z\"/><path d=\"M17.41 7.96l-1.37-1.37c-.4-.4-.92-.59-1.43-.59-.52 0-1.04.2-1.43.59L10.3 9.45l-7.72 7.72c-.78.78-.78 2.05 0 2.83L4 21.41c.39.39.9.59 1.41.59.51 0 1.02-.2 1.41-.59l7.78-7.78 2.81-2.81c.8-.78.8-2.07 0-2.86zM5.41 20L4 18.59l7.72-7.72 1.47 1.35L5.41 20z\"/>\n",
              "  </svg>\n",
              "      </button>\n",
              "      \n",
              "  <style>\n",
              "    .colab-df-container {\n",
              "      display:flex;\n",
              "      flex-wrap:wrap;\n",
              "      gap: 12px;\n",
              "    }\n",
              "\n",
              "    .colab-df-convert {\n",
              "      background-color: #E8F0FE;\n",
              "      border: none;\n",
              "      border-radius: 50%;\n",
              "      cursor: pointer;\n",
              "      display: none;\n",
              "      fill: #1967D2;\n",
              "      height: 32px;\n",
              "      padding: 0 0 0 0;\n",
              "      width: 32px;\n",
              "    }\n",
              "\n",
              "    .colab-df-convert:hover {\n",
              "      background-color: #E2EBFA;\n",
              "      box-shadow: 0px 1px 2px rgba(60, 64, 67, 0.3), 0px 1px 3px 1px rgba(60, 64, 67, 0.15);\n",
              "      fill: #174EA6;\n",
              "    }\n",
              "\n",
              "    [theme=dark] .colab-df-convert {\n",
              "      background-color: #3B4455;\n",
              "      fill: #D2E3FC;\n",
              "    }\n",
              "\n",
              "    [theme=dark] .colab-df-convert:hover {\n",
              "      background-color: #434B5C;\n",
              "      box-shadow: 0px 1px 3px 1px rgba(0, 0, 0, 0.15);\n",
              "      filter: drop-shadow(0px 1px 2px rgba(0, 0, 0, 0.3));\n",
              "      fill: #FFFFFF;\n",
              "    }\n",
              "  </style>\n",
              "\n",
              "      <script>\n",
              "        const buttonEl =\n",
              "          document.querySelector('#df-16e8cd4e-9e33-4ffe-9900-e7c456a682f0 button.colab-df-convert');\n",
              "        buttonEl.style.display =\n",
              "          google.colab.kernel.accessAllowed ? 'block' : 'none';\n",
              "\n",
              "        async function convertToInteractive(key) {\n",
              "          const element = document.querySelector('#df-16e8cd4e-9e33-4ffe-9900-e7c456a682f0');\n",
              "          const dataTable =\n",
              "            await google.colab.kernel.invokeFunction('convertToInteractive',\n",
              "                                                     [key], {});\n",
              "          if (!dataTable) return;\n",
              "\n",
              "          const docLinkHtml = 'Like what you see? Visit the ' +\n",
              "            '<a target=\"_blank\" href=https://colab.research.google.com/notebooks/data_table.ipynb>data table notebook</a>'\n",
              "            + ' to learn more about interactive tables.';\n",
              "          element.innerHTML = '';\n",
              "          dataTable['output_type'] = 'display_data';\n",
              "          await google.colab.output.renderOutput(dataTable, element);\n",
              "          const docLink = document.createElement('div');\n",
              "          docLink.innerHTML = docLinkHtml;\n",
              "          element.appendChild(docLink);\n",
              "        }\n",
              "      </script>\n",
              "    </div>\n",
              "  </div>\n",
              "  "
            ]
          },
          "metadata": {},
          "execution_count": 2
        }
      ]
    },
    {
      "cell_type": "markdown",
      "source": [
        "## Define NN"
      ],
      "metadata": {
        "id": "UfS8s42iGBOA"
      }
    },
    {
      "cell_type": "code",
      "source": [
        "train, test = train_test_split(dataset, test_size=0.2)"
      ],
      "metadata": {
        "id": "nHcAIeT2EREf"
      },
      "execution_count": 3,
      "outputs": []
    },
    {
      "cell_type": "code",
      "source": [
        "# creating item embedding path\n",
        "item_input = Input(shape=[1], name=\"Items-Input\")\n",
        "item_embedding = Embedding(len(train.item)+1, 10, name=\"Items-Embedding\")(item_input)\n",
        "item_vec = Flatten(name=\"Flatten-Items\")(item_embedding)\n",
        "# concatenate features\n",
        "conc = Concatenate()([item_vec])\n",
        "# add fully-connected-layers\n",
        "fc1 = Dense(128, activation='relu')(conc)\n",
        "fc2 = Dense(32, activation='relu')(fc1)\n",
        "fc3 = Dense(32, activation='relu')(fc2)\n",
        "out = Dense(1)(fc3)\n",
        "# Create model and compile it\n",
        "model = Model([item_input], out)\n",
        "model.compile('adam', 'mean_squared_error')"
      ],
      "metadata": {
        "id": "vgTNc59rFhbC"
      },
      "execution_count": 4,
      "outputs": []
    },
    {
      "cell_type": "markdown",
      "source": [
        "## Train NN"
      ],
      "metadata": {
        "id": "4YrJyaBIGUES"
      }
    },
    {
      "cell_type": "code",
      "source": [
        "history = model.fit([train.item_id], train.rating, epochs=5, verbose=1)"
      ],
      "metadata": {
        "colab": {
          "base_uri": "https://localhost:8080/"
        },
        "id": "Ae20zBm4GWy7",
        "outputId": "8cedcefb-f0fb-4ea3-e17b-36d18baf34a9"
      },
      "execution_count": null,
      "outputs": [
        {
          "output_type": "stream",
          "name": "stdout",
          "text": [
            "Epoch 1/5\n",
            "22091/22091 [==============================] - 213s 10ms/step - loss: 3.0667\n",
            "Epoch 2/5\n",
            "22091/22091 [==============================] - 206s 9ms/step - loss: 2.0113\n",
            "Epoch 3/5\n",
            "22091/22091 [==============================] - 203s 9ms/step - loss: 2.0114\n",
            "Epoch 4/5\n",
            "22091/22091 [==============================] - 209s 9ms/step - loss: 2.0113\n",
            "Epoch 5/5\n",
            " 9900/22091 [============>.................] - ETA: 1:55 - loss: 2.0087"
          ]
        }
      ]
    },
    {
      "cell_type": "markdown",
      "source": [
        "## Predictions NN"
      ],
      "metadata": {
        "id": "PdEV9sRJGeMF"
      }
    },
    {
      "cell_type": "code",
      "source": [
        "k = 15\n",
        "predictions = model.predict([test.item_id.head(k)])\n",
        "[print(predictions[i], test.rating.iloc[i]) for i in range(k)]"
      ],
      "metadata": {
        "id": "4aggnXM4GgU8"
      },
      "execution_count": null,
      "outputs": []
    }
  ]
}